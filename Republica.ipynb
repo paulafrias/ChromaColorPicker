{
  "nbformat": 4,
  "nbformat_minor": 0,
  "metadata": {
    "colab": {
      "name": "Republica",
      "provenance": [],
      "collapsed_sections": [],
      "authorship_tag": "ABX9TyOzs0WkTxhmWQw+BdI3izwd",
      "include_colab_link": true
    },
    "kernelspec": {
      "name": "ir",
      "display_name": "R"
    },
    "language_info": {
      "name": "R"
    }
  },
  "cells": [
    {
      "cell_type": "markdown",
      "metadata": {
        "id": "view-in-github",
        "colab_type": "text"
      },
      "source": [
        "<a href=\"https://colab.research.google.com/github/paulafrias/ChromaColorPicker/blob/master/Republica.ipynb\" target=\"_parent\"><img src=\"https://colab.research.google.com/assets/colab-badge.svg\" alt=\"Open In Colab\"/></a>"
      ]
    },
    {
      "cell_type": "code",
      "execution_count": 2,
      "metadata": {
        "id": "47ihUj6GOh-u"
      },
      "outputs": [],
      "source": [
        "setwd(\"/content\")\n",
        "\n"
      ]
    },
    {
      "cell_type": "code",
      "source": [
        "rem_servidor_federal <- read.csv2(\"5233-liquidosexoraca.csv\", encoding = \"UTF-8\")"
      ],
      "metadata": {
        "id": "o2hbDCy2RWbz"
      },
      "execution_count": 3,
      "outputs": []
    },
    {
      "cell_type": "code",
      "source": [
        "x = rem_servidor_federal "
      ],
      "metadata": {
        "id": "SKXqvOPPRmnX"
      },
      "execution_count": 5,
      "outputs": []
    },
    {
      "cell_type": "code",
      "source": [
        ""
      ],
      "metadata": {
        "id": "EdoSJ6ADSx3Y"
      },
      "execution_count": null,
      "outputs": []
    }
  ]
}